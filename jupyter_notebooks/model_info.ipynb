{
 "cells": [
  {
   "attachments": {},
   "cell_type": "markdown",
   "metadata": {},
   "source": [
    "For binary classification, we use binary cross-entropy as the loss function,\n",
    "adam, rmspro or any other function as an optimizer and accuracy as metrics along\n",
    "with sigmoid as an activation function in the output layer.\n",
    "If we want to do the same binary classification by using the softmax function\n",
    "we can change the number of nodes from 1 to 2\n",
    "and the activation function from sigmoid to softmax in the output layer of the model.\n",
    "As well as this, the loss function is changed to categorical cross-entropy.\n",
    "The rest of both the optimizer and metrics can remain the same.\n",
    "Apart from these changes, we will have to change class_mode from binary to categorical\n",
    "in the flow_from_directory function to generate the compatible data.\n",
    "And for regression operations, no activation is required in the\n",
    "output function, whereas the node in the output layer is always set to 1, and the loss function\n",
    "as mean_absolute_error. However, the optimizer can be adam, Rmsprop,\n",
    "SGD, or any other optimizer function depending on the performance we get from model.\n",
    "Note: A Regression model is created only for continuous numerical data operations.\n",
    "\n",
    "### Types of ML Operations\n",
    "![1](../media/one.png)\n",
    "![2](../media/two.png)"
   ]
  },
  {
   "attachments": {},
   "cell_type": "markdown",
   "metadata": {},
   "source": [
    "Deep neural models work on the combination of parameters and hyperparameters.\n",
    "Without getting into too much detail about both of these terms, in short,\n",
    "hyperparameters tune the model parameters so that we can control the performance of the model.\n",
    "In our model, we have used dropout, loss, optimizer, and nodes in the dense layer as\n",
    "the hyperparameter that can be tuned to control the model performance. However, the selection\n",
    "of the optimum hyperparameter value is a trial and error type method. Hence, we use different model\n",
    "tuning functions present in the Keras packages. I recommend reading more about hyperparameter\n",
    "tuning in TensorFlow and Keras on your own and trying to tune models later to see their effect.\n",
    "Note: It takes several hours to tune the model, so you should do this in your free time.\n",
    "One more piece of information about convolution neural network performance tuning is that\n",
    "we use transfer learning techniques which are trained layers of neural networks. Read more\n",
    "about transfer learning on Tensorflow and Keras documentation to learn more about this technology."
   ]
  },
  {
   "cell_type": "markdown",
   "metadata": {},
   "source": []
  }
 ],
 "metadata": {
  "kernelspec": {
   "display_name": "Python 3",
   "language": "python",
   "name": "python3"
  },
  "language_info": {
   "name": "python",
   "version": "3.8.13 (default, Dec 30 2022, 16:12:50) \n[GCC 9.4.0]"
  },
  "orig_nbformat": 4,
  "vscode": {
   "interpreter": {
    "hash": "9ac03a0a6051494cc606d484d27d20fce22fb7b4d169f583271e11d5ba46a56e"
   }
  }
 },
 "nbformat": 4,
 "nbformat_minor": 2
}
